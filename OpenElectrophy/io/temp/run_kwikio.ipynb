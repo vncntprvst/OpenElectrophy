{
 "cells": [
  {
   "cell_type": "code",
   "execution_count": 31,
   "metadata": {
    "collapsed": false
   },
   "outputs": [
    {
     "name": "stdout",
     "output_type": "stream",
     "text": [
      "The autoreload extension is already loaded. To reload it, use:\n",
      "  %reload_ext autoreload\n"
     ]
    }
   ],
   "source": [
    "%load_ext autoreload\n",
    "%autoreload 2\n",
    "import neo\n",
    "import numpy as np\n",
    "import pandas as pd\n",
    "import matplotlib.pyplot as plt"
   ]
  },
  {
   "cell_type": "code",
   "execution_count": 104,
   "metadata": {
    "collapsed": false
   },
   "outputs": [],
   "source": [
    "#filename = '/home/mikkel/apps/KwikTeam/klusta-example/test/experiment0.kwik'\n",
    "filename = '/home/mikkel/apps/KwikTeam/klusta-example/test_hybrid_120sec/test_hybrid_120sec.kwik'"
   ]
  },
  {
   "cell_type": "code",
   "execution_count": 105,
   "metadata": {
    "collapsed": false
   },
   "outputs": [],
   "source": [
    "r = neo.io.KwikIO(filename)"
   ]
  },
  {
   "cell_type": "code",
   "execution_count": 106,
   "metadata": {
    "collapsed": false
   },
   "outputs": [
    {
     "data": {
      "text/plain": [
       "'This IO reads experimental data from a .kwik dataset'"
      ]
     },
     "execution_count": 106,
     "metadata": {},
     "output_type": "execute_result"
    }
   ],
   "source": [
    "r.description"
   ]
  },
  {
   "cell_type": "code",
   "execution_count": 107,
   "metadata": {
    "collapsed": false
   },
   "outputs": [],
   "source": [
    "seg = r.read_segment(lazy=False,channel_index=None,sampling_rate=None)"
   ]
  },
  {
   "cell_type": "code",
   "execution_count": 102,
   "metadata": {
    "collapsed": false,
    "scrolled": true
   },
   "outputs": [
    {
     "data": {
      "text/plain": [
       "[AnalogSignal in 1.0 uV with 5414999 float32 values\n",
       " annotations: {'info': 'raw traces'}\n",
       " channel index: 0\n",
       " sampling rate: 30000.0 Hz\n",
       " time: 0.0 s to 180.499966667 s,\n",
       " AnalogSignal in 1.0 uV with 5414999 float32 values\n",
       " annotations: {'info': 'raw traces'}\n",
       " channel index: 1\n",
       " sampling rate: 30000.0 Hz\n",
       " time: 0.0 s to 180.499966667 s,\n",
       " AnalogSignal in 1.0 uV with 5414999 float32 values\n",
       " annotations: {'info': 'raw traces'}\n",
       " channel index: 2\n",
       " sampling rate: 30000.0 Hz\n",
       " time: 0.0 s to 180.499966667 s,\n",
       " AnalogSignal in 1.0 uV with 5414999 float32 values\n",
       " annotations: {'info': 'raw traces'}\n",
       " channel index: 3\n",
       " sampling rate: 30000.0 Hz\n",
       " time: 0.0 s to 180.499966667 s,\n",
       " AnalogSignal in 1.0 uV with 5414999 float32 values\n",
       " annotations: {'info': 'raw traces'}\n",
       " channel index: 4\n",
       " sampling rate: 30000.0 Hz\n",
       " time: 0.0 s to 180.499966667 s,\n",
       " AnalogSignal in 1.0 uV with 5414999 float32 values\n",
       " annotations: {'info': 'raw traces'}\n",
       " channel index: 5\n",
       " sampling rate: 30000.0 Hz\n",
       " time: 0.0 s to 180.499966667 s,\n",
       " AnalogSignal in 1.0 uV with 5414999 float32 values\n",
       " annotations: {'info': 'raw traces'}\n",
       " channel index: 6\n",
       " sampling rate: 30000.0 Hz\n",
       " time: 0.0 s to 180.499966667 s,\n",
       " AnalogSignal in 1.0 uV with 5414999 float32 values\n",
       " annotations: {'info': 'raw traces'}\n",
       " channel index: 7\n",
       " sampling rate: 30000.0 Hz\n",
       " time: 0.0 s to 180.499966667 s,\n",
       " AnalogSignal in 1.0 uV with 5414999 float32 values\n",
       " annotations: {'info': 'raw traces'}\n",
       " channel index: 8\n",
       " sampling rate: 30000.0 Hz\n",
       " time: 0.0 s to 180.499966667 s,\n",
       " AnalogSignal in 1.0 uV with 5414999 float32 values\n",
       " annotations: {'info': 'raw traces'}\n",
       " channel index: 9\n",
       " sampling rate: 30000.0 Hz\n",
       " time: 0.0 s to 180.499966667 s,\n",
       " AnalogSignal in 1.0 uV with 5414999 float32 values\n",
       " annotations: {'info': 'raw traces'}\n",
       " channel index: 10\n",
       " sampling rate: 30000.0 Hz\n",
       " time: 0.0 s to 180.499966667 s,\n",
       " AnalogSignal in 1.0 uV with 5414999 float32 values\n",
       " annotations: {'info': 'raw traces'}\n",
       " channel index: 11\n",
       " sampling rate: 30000.0 Hz\n",
       " time: 0.0 s to 180.499966667 s,\n",
       " AnalogSignal in 1.0 uV with 5414999 float32 values\n",
       " annotations: {'info': 'raw traces'}\n",
       " channel index: 12\n",
       " sampling rate: 30000.0 Hz\n",
       " time: 0.0 s to 180.499966667 s,\n",
       " AnalogSignal in 1.0 uV with 5414999 float32 values\n",
       " annotations: {'info': 'raw traces'}\n",
       " channel index: 13\n",
       " sampling rate: 30000.0 Hz\n",
       " time: 0.0 s to 180.499966667 s,\n",
       " AnalogSignal in 1.0 uV with 5414999 float32 values\n",
       " annotations: {'info': 'raw traces'}\n",
       " channel index: 14\n",
       " sampling rate: 30000.0 Hz\n",
       " time: 0.0 s to 180.499966667 s,\n",
       " AnalogSignal in 1.0 uV with 5414999 float32 values\n",
       " annotations: {'info': 'raw traces'}\n",
       " channel index: 15\n",
       " sampling rate: 30000.0 Hz\n",
       " time: 0.0 s to 180.499966667 s,\n",
       " AnalogSignal in 1.0 uV with 5414999 float32 values\n",
       " annotations: {'info': 'raw traces'}\n",
       " channel index: 16\n",
       " sampling rate: 30000.0 Hz\n",
       " time: 0.0 s to 180.499966667 s,\n",
       " AnalogSignal in 1.0 uV with 5414999 float32 values\n",
       " annotations: {'info': 'raw traces'}\n",
       " channel index: 17\n",
       " sampling rate: 30000.0 Hz\n",
       " time: 0.0 s to 180.499966667 s,\n",
       " AnalogSignal in 1.0 uV with 5414999 float32 values\n",
       " annotations: {'info': 'raw traces'}\n",
       " channel index: 18\n",
       " sampling rate: 30000.0 Hz\n",
       " time: 0.0 s to 180.499966667 s]"
      ]
     },
     "execution_count": 102,
     "metadata": {},
     "output_type": "execute_result"
    }
   ],
   "source": [
    "seg.analogsignals"
   ]
  },
  {
   "cell_type": "code",
   "execution_count": 80,
   "metadata": {
    "collapsed": false
   },
   "outputs": [
    {
     "data": {
      "text/plain": [
       "[AnalogSignal in 1.0 bit with 2399999 float32 values\n",
       " annotations: {'info': 'raw traces'}\n",
       " channel index: 0\n",
       " sampling rate: 20000.0 Hz\n",
       " time: 0.0 s to 119.99995 s,\n",
       " AnalogSignal in 1.0 bit with 2399999 float32 values\n",
       " annotations: {'info': 'raw traces'}\n",
       " channel index: 1\n",
       " sampling rate: 20000.0 Hz\n",
       " time: 0.0 s to 119.99995 s,\n",
       " AnalogSignal in 1.0 bit with 2399999 float32 values\n",
       " annotations: {'info': 'raw traces'}\n",
       " channel index: 2\n",
       " sampling rate: 20000.0 Hz\n",
       " time: 0.0 s to 119.99995 s,\n",
       " AnalogSignal in 1.0 bit with 2399999 float32 values\n",
       " annotations: {'info': 'raw traces'}\n",
       " channel index: 3\n",
       " sampling rate: 20000.0 Hz\n",
       " time: 0.0 s to 119.99995 s,\n",
       " AnalogSignal in 1.0 bit with 2399999 float32 values\n",
       " annotations: {'info': 'raw traces'}\n",
       " channel index: 4\n",
       " sampling rate: 20000.0 Hz\n",
       " time: 0.0 s to 119.99995 s,\n",
       " AnalogSignal in 1.0 bit with 2399999 float32 values\n",
       " annotations: {'info': 'raw traces'}\n",
       " channel index: 5\n",
       " sampling rate: 20000.0 Hz\n",
       " time: 0.0 s to 119.99995 s,\n",
       " AnalogSignal in 1.0 bit with 2399999 float32 values\n",
       " annotations: {'info': 'raw traces'}\n",
       " channel index: 6\n",
       " sampling rate: 20000.0 Hz\n",
       " time: 0.0 s to 119.99995 s,\n",
       " AnalogSignal in 1.0 bit with 2399999 float32 values\n",
       " annotations: {'info': 'raw traces'}\n",
       " channel index: 7\n",
       " sampling rate: 20000.0 Hz\n",
       " time: 0.0 s to 119.99995 s,\n",
       " AnalogSignal in 1.0 bit with 2399999 float32 values\n",
       " annotations: {'info': 'raw traces'}\n",
       " channel index: 8\n",
       " sampling rate: 20000.0 Hz\n",
       " time: 0.0 s to 119.99995 s,\n",
       " AnalogSignal in 1.0 bit with 2399999 float32 values\n",
       " annotations: {'info': 'raw traces'}\n",
       " channel index: 9\n",
       " sampling rate: 20000.0 Hz\n",
       " time: 0.0 s to 119.99995 s,\n",
       " AnalogSignal in 1.0 bit with 2399999 float32 values\n",
       " annotations: {'info': 'raw traces'}\n",
       " channel index: 10\n",
       " sampling rate: 20000.0 Hz\n",
       " time: 0.0 s to 119.99995 s,\n",
       " AnalogSignal in 1.0 bit with 2399999 float32 values\n",
       " annotations: {'info': 'raw traces'}\n",
       " channel index: 11\n",
       " sampling rate: 20000.0 Hz\n",
       " time: 0.0 s to 119.99995 s,\n",
       " AnalogSignal in 1.0 bit with 2399999 float32 values\n",
       " annotations: {'info': 'raw traces'}\n",
       " channel index: 12\n",
       " sampling rate: 20000.0 Hz\n",
       " time: 0.0 s to 119.99995 s,\n",
       " AnalogSignal in 1.0 bit with 2399999 float32 values\n",
       " annotations: {'info': 'raw traces'}\n",
       " channel index: 13\n",
       " sampling rate: 20000.0 Hz\n",
       " time: 0.0 s to 119.99995 s,\n",
       " AnalogSignal in 1.0 bit with 2399999 float32 values\n",
       " annotations: {'info': 'raw traces'}\n",
       " channel index: 14\n",
       " sampling rate: 20000.0 Hz\n",
       " time: 0.0 s to 119.99995 s,\n",
       " AnalogSignal in 1.0 bit with 2399999 float32 values\n",
       " annotations: {'info': 'raw traces'}\n",
       " channel index: 15\n",
       " sampling rate: 20000.0 Hz\n",
       " time: 0.0 s to 119.99995 s,\n",
       " AnalogSignal in 1.0 bit with 2399999 float32 values\n",
       " annotations: {'info': 'raw traces'}\n",
       " channel index: 16\n",
       " sampling rate: 20000.0 Hz\n",
       " time: 0.0 s to 119.99995 s,\n",
       " AnalogSignal in 1.0 bit with 2399999 float32 values\n",
       " annotations: {'info': 'raw traces'}\n",
       " channel index: 17\n",
       " sampling rate: 20000.0 Hz\n",
       " time: 0.0 s to 119.99995 s,\n",
       " AnalogSignal in 1.0 bit with 2399999 float32 values\n",
       " annotations: {'info': 'raw traces'}\n",
       " channel index: 18\n",
       " sampling rate: 20000.0 Hz\n",
       " time: 0.0 s to 119.99995 s,\n",
       " AnalogSignal in 1.0 bit with 2399999 float32 values\n",
       " annotations: {'info': 'raw traces'}\n",
       " channel index: 19\n",
       " sampling rate: 20000.0 Hz\n",
       " time: 0.0 s to 119.99995 s,\n",
       " AnalogSignal in 1.0 bit with 2399999 float32 values\n",
       " annotations: {'info': 'raw traces'}\n",
       " channel index: 20\n",
       " sampling rate: 20000.0 Hz\n",
       " time: 0.0 s to 119.99995 s,\n",
       " AnalogSignal in 1.0 bit with 2399999 float32 values\n",
       " annotations: {'info': 'raw traces'}\n",
       " channel index: 21\n",
       " sampling rate: 20000.0 Hz\n",
       " time: 0.0 s to 119.99995 s,\n",
       " AnalogSignal in 1.0 bit with 2399999 float32 values\n",
       " annotations: {'info': 'raw traces'}\n",
       " channel index: 22\n",
       " sampling rate: 20000.0 Hz\n",
       " time: 0.0 s to 119.99995 s,\n",
       " AnalogSignal in 1.0 bit with 2399999 float32 values\n",
       " annotations: {'info': 'raw traces'}\n",
       " channel index: 23\n",
       " sampling rate: 20000.0 Hz\n",
       " time: 0.0 s to 119.99995 s,\n",
       " AnalogSignal in 1.0 bit with 2399999 float32 values\n",
       " annotations: {'info': 'raw traces'}\n",
       " channel index: 24\n",
       " sampling rate: 20000.0 Hz\n",
       " time: 0.0 s to 119.99995 s,\n",
       " AnalogSignal in 1.0 bit with 2399999 float32 values\n",
       " annotations: {'info': 'raw traces'}\n",
       " channel index: 25\n",
       " sampling rate: 20000.0 Hz\n",
       " time: 0.0 s to 119.99995 s,\n",
       " AnalogSignal in 1.0 bit with 2399999 float32 values\n",
       " annotations: {'info': 'raw traces'}\n",
       " channel index: 26\n",
       " sampling rate: 20000.0 Hz\n",
       " time: 0.0 s to 119.99995 s,\n",
       " AnalogSignal in 1.0 bit with 2399999 float32 values\n",
       " annotations: {'info': 'raw traces'}\n",
       " channel index: 27\n",
       " sampling rate: 20000.0 Hz\n",
       " time: 0.0 s to 119.99995 s,\n",
       " AnalogSignal in 1.0 bit with 2399999 float32 values\n",
       " annotations: {'info': 'raw traces'}\n",
       " channel index: 28\n",
       " sampling rate: 20000.0 Hz\n",
       " time: 0.0 s to 119.99995 s,\n",
       " AnalogSignal in 1.0 bit with 2399999 float32 values\n",
       " annotations: {'info': 'raw traces'}\n",
       " channel index: 29\n",
       " sampling rate: 20000.0 Hz\n",
       " time: 0.0 s to 119.99995 s,\n",
       " AnalogSignal in 1.0 bit with 2399999 float32 values\n",
       " annotations: {'info': 'raw traces'}\n",
       " channel index: 30\n",
       " sampling rate: 20000.0 Hz\n",
       " time: 0.0 s to 119.99995 s,\n",
       " AnalogSignal in 1.0 bit with 2399999 float32 values\n",
       " annotations: {'info': 'raw traces'}\n",
       " channel index: 31\n",
       " sampling rate: 20000.0 Hz\n",
       " time: 0.0 s to 119.99995 s]"
      ]
     },
     "execution_count": 80,
     "metadata": {},
     "output_type": "execute_result"
    }
   ],
   "source": [
    "seg.analogsignals"
   ]
  },
  {
   "cell_type": "code",
   "execution_count": 110,
   "metadata": {
    "collapsed": false
   },
   "outputs": [
    {
     "name": "stdout",
     "output_type": "stream",
     "text": [
      "None\n"
     ]
    }
   ],
   "source": [
    "print seg.name"
   ]
  },
  {
   "cell_type": "code",
   "execution_count": 69,
   "metadata": {
    "collapsed": false
   },
   "outputs": [
    {
     "name": "stdout",
     "output_type": "stream",
     "text": [
      "None\n"
     ]
    }
   ],
   "source": [
    "print seg.analogsignals[0].recordingchannel"
   ]
  },
  {
   "cell_type": "code",
   "execution_count": 70,
   "metadata": {
    "collapsed": false
   },
   "outputs": [],
   "source": [
    "plt.plot(seg.analogsignals[0].magnitude)\n",
    "plt.show()"
   ]
  },
  {
   "cell_type": "code",
   "execution_count": 87,
   "metadata": {
    "collapsed": false
   },
   "outputs": [
    {
     "data": {
      "text/plain": [
       "(5414999,)"
      ]
     },
     "execution_count": 87,
     "metadata": {},
     "output_type": "execute_result"
    }
   ],
   "source": [
    "seg.analogsignals[0].magnitude.shape"
   ]
  },
  {
   "cell_type": "code",
   "execution_count": 48,
   "metadata": {
    "collapsed": false
   },
   "outputs": [
    {
     "data": {
      "text/plain": [
       "array(120.0) * s"
      ]
     },
     "execution_count": 48,
     "metadata": {},
     "output_type": "execute_result"
    }
   ],
   "source": [
    "seg.duration"
   ]
  },
  {
   "cell_type": "code",
   "execution_count": 49,
   "metadata": {
    "collapsed": false
   },
   "outputs": [],
   "source": [
    "import h5py\n",
    "#filename = '/home/mikkel/apps/KwikTeam/klusta-example/test/experiment0.raw.kwd'\n",
    "hdf5 = h5py.File(filename, 'r')"
   ]
  },
  {
   "cell_type": "code",
   "execution_count": 50,
   "metadata": {
    "collapsed": false
   },
   "outputs": [],
   "source": [
    "atr = hdf5['recordings']['0'].attrs"
   ]
  },
  {
   "cell_type": "code",
   "execution_count": 51,
   "metadata": {
    "collapsed": false
   },
   "outputs": [
    {
     "data": {
      "text/plain": [
       "[u'name', u'start_sample', u'sample_rate', u'start_time']"
      ]
     },
     "execution_count": 51,
     "metadata": {},
     "output_type": "execute_result"
    }
   ],
   "source": [
    "atr.keys()"
   ]
  },
  {
   "cell_type": "code",
   "execution_count": 53,
   "metadata": {
    "collapsed": false
   },
   "outputs": [
    {
     "data": {
      "text/plain": [
       "numpy.float64"
      ]
     },
     "execution_count": 53,
     "metadata": {},
     "output_type": "execute_result"
    }
   ],
   "source": [
    "type(atr['start_time'])"
   ]
  },
  {
   "cell_type": "code",
   "execution_count": 36,
   "metadata": {
    "collapsed": false
   },
   "outputs": [
    {
     "ename": "TypeError",
     "evalue": "'int' object has no attribute '__getitem__'",
     "output_type": "error",
     "traceback": [
      "\u001b[1;31m---------------------------------------------------------------------------\u001b[0m",
      "\u001b[1;31mTypeError\u001b[0m                                 Traceback (most recent call last)",
      "\u001b[1;32m<ipython-input-36-016a87a854bc>\u001b[0m in \u001b[0;36m<module>\u001b[1;34m()\u001b[0m\n\u001b[1;32m----> 1\u001b[1;33m \u001b[0ma\u001b[0m\u001b[1;33m[\u001b[0m\u001b[1;36m2\u001b[0m\u001b[1;33m]\u001b[0m\u001b[1;33m\u001b[0m\u001b[0m\n\u001b[0m",
      "\u001b[1;31mTypeError\u001b[0m: 'int' object has no attribute '__getitem__'"
     ]
    }
   ],
   "source": [
    "a[2]"
   ]
  },
  {
   "cell_type": "code",
   "execution_count": 38,
   "metadata": {
    "collapsed": false
   },
   "outputs": [
    {
     "data": {
      "text/plain": [
       "array([ 1.,  1.])"
      ]
     },
     "execution_count": 38,
     "metadata": {},
     "output_type": "execute_result"
    }
   ],
   "source": [
    "np.ones(2)"
   ]
  },
  {
   "cell_type": "code",
   "execution_count": 54,
   "metadata": {
    "collapsed": true
   },
   "outputs": [],
   "source": [
    "a = {}"
   ]
  },
  {
   "cell_type": "code",
   "execution_count": 55,
   "metadata": {
    "collapsed": true
   },
   "outputs": [],
   "source": [
    "a['yoyo'] = 0"
   ]
  },
  {
   "cell_type": "code",
   "execution_count": 56,
   "metadata": {
    "collapsed": false
   },
   "outputs": [
    {
     "data": {
      "text/plain": [
       "{'yoyo': 0}"
      ]
     },
     "execution_count": 56,
     "metadata": {},
     "output_type": "execute_result"
    }
   ],
   "source": [
    "a"
   ]
  },
  {
   "cell_type": "code",
   "execution_count": 12,
   "metadata": {
    "collapsed": false
   },
   "outputs": [
    {
     "data": {
      "text/plain": [
       "'2.2.1'"
      ]
     },
     "execution_count": 12,
     "metadata": {},
     "output_type": "execute_result"
    }
   ],
   "source": [
    "h5py.__version__"
   ]
  },
  {
   "cell_type": "code",
   "execution_count": 38,
   "metadata": {
    "collapsed": false
   },
   "outputs": [
    {
     "name": "stderr",
     "output_type": "stream",
     "text": [
      "ERROR: Line magic function `%which` not found.\n"
     ]
    }
   ],
   "source": []
  },
  {
   "cell_type": "code",
   "execution_count": null,
   "metadata": {
    "collapsed": true
   },
   "outputs": [],
   "source": []
  }
 ],
 "metadata": {
  "kernelspec": {
   "display_name": "Python 2",
   "language": "python",
   "name": "python2"
  },
  "language_info": {
   "codemirror_mode": {
    "name": "ipython",
    "version": 2
   },
   "file_extension": ".py",
   "mimetype": "text/x-python",
   "name": "python",
   "nbconvert_exporter": "python",
   "pygments_lexer": "ipython2",
   "version": "2.7.9"
  }
 },
 "nbformat": 4,
 "nbformat_minor": 0
}
